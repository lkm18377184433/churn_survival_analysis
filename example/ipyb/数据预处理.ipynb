{
 "cells": [
  {
   "cell_type": "markdown",
   "metadata": {},
   "source": [
    "# 环境配置及导入模块"
   ]
  },
  {
   "cell_type": "code",
   "execution_count": 1,
   "metadata": {
    "ExecuteTime": {
     "end_time": "2022-02-23T10:22:01.474357Z",
     "start_time": "2022-02-23T10:21:57.071253Z"
    }
   },
   "outputs": [],
   "source": [
    "import warnings\n",
    "\n",
    "warnings.filterwarnings(\"ignore\")\n",
    "\n",
    "import pandas as pd\n",
    "from toad.transform import Combiner\n",
    "from matplotlib import pyplot as plt\n",
    "from lifelines import CoxPHFitter\n",
    "from sklearn.model_selection import train_test_split\n",
    "\n",
    "pd.set_option(\"display.width\", 10000)\n",
    "pd.set_option(\"display.max_rows\", None)\n",
    "pd.set_option(\"display.max_columns\", None)"
   ]
  },
  {
   "cell_type": "markdown",
   "metadata": {},
   "source": [
    "# 加载数据"
   ]
  },
  {
   "cell_type": "code",
   "execution_count": 2,
   "metadata": {
    "ExecuteTime": {
     "end_time": "2022-02-23T10:22:27.607041Z",
     "start_time": "2022-02-23T10:22:27.549155Z"
    }
   },
   "outputs": [
    {
     "data": {
      "text/html": [
       "<div>\n",
       "<style scoped>\n",
       "    .dataframe tbody tr th:only-of-type {\n",
       "        vertical-align: middle;\n",
       "    }\n",
       "\n",
       "    .dataframe tbody tr th {\n",
       "        vertical-align: top;\n",
       "    }\n",
       "\n",
       "    .dataframe thead th {\n",
       "        text-align: right;\n",
       "    }\n",
       "</style>\n",
       "<table border=\"1\" class=\"dataframe\">\n",
       "  <thead>\n",
       "    <tr style=\"text-align: right;\">\n",
       "      <th></th>\n",
       "      <th>customerID</th>\n",
       "      <th>gender</th>\n",
       "      <th>SeniorCitizen</th>\n",
       "      <th>Partner</th>\n",
       "      <th>Dependents</th>\n",
       "      <th>tenure</th>\n",
       "      <th>PhoneService</th>\n",
       "      <th>MultipleLines</th>\n",
       "      <th>InternetService</th>\n",
       "      <th>OnlineSecurity</th>\n",
       "      <th>OnlineBackup</th>\n",
       "      <th>DeviceProtection</th>\n",
       "      <th>TechSupport</th>\n",
       "      <th>StreamingTV</th>\n",
       "      <th>StreamingMovies</th>\n",
       "      <th>Contract</th>\n",
       "      <th>PaperlessBilling</th>\n",
       "      <th>PaymentMethod</th>\n",
       "      <th>MonthlyCharges</th>\n",
       "      <th>TotalCharges</th>\n",
       "      <th>Churn</th>\n",
       "    </tr>\n",
       "  </thead>\n",
       "  <tbody>\n",
       "    <tr>\n",
       "      <th>0</th>\n",
       "      <td>7590-VHVEG</td>\n",
       "      <td>Female</td>\n",
       "      <td>0</td>\n",
       "      <td>Yes</td>\n",
       "      <td>No</td>\n",
       "      <td>1</td>\n",
       "      <td>No</td>\n",
       "      <td>No phone service</td>\n",
       "      <td>DSL</td>\n",
       "      <td>No</td>\n",
       "      <td>Yes</td>\n",
       "      <td>No</td>\n",
       "      <td>No</td>\n",
       "      <td>No</td>\n",
       "      <td>No</td>\n",
       "      <td>Month-to-month</td>\n",
       "      <td>Yes</td>\n",
       "      <td>Electronic check</td>\n",
       "      <td>29.85</td>\n",
       "      <td>29.85</td>\n",
       "      <td>No</td>\n",
       "    </tr>\n",
       "    <tr>\n",
       "      <th>1</th>\n",
       "      <td>5575-GNVDE</td>\n",
       "      <td>Male</td>\n",
       "      <td>0</td>\n",
       "      <td>No</td>\n",
       "      <td>No</td>\n",
       "      <td>34</td>\n",
       "      <td>Yes</td>\n",
       "      <td>No</td>\n",
       "      <td>DSL</td>\n",
       "      <td>Yes</td>\n",
       "      <td>No</td>\n",
       "      <td>Yes</td>\n",
       "      <td>No</td>\n",
       "      <td>No</td>\n",
       "      <td>No</td>\n",
       "      <td>One year</td>\n",
       "      <td>No</td>\n",
       "      <td>Mailed check</td>\n",
       "      <td>56.95</td>\n",
       "      <td>1889.5</td>\n",
       "      <td>No</td>\n",
       "    </tr>\n",
       "    <tr>\n",
       "      <th>2</th>\n",
       "      <td>3668-QPYBK</td>\n",
       "      <td>Male</td>\n",
       "      <td>0</td>\n",
       "      <td>No</td>\n",
       "      <td>No</td>\n",
       "      <td>2</td>\n",
       "      <td>Yes</td>\n",
       "      <td>No</td>\n",
       "      <td>DSL</td>\n",
       "      <td>Yes</td>\n",
       "      <td>Yes</td>\n",
       "      <td>No</td>\n",
       "      <td>No</td>\n",
       "      <td>No</td>\n",
       "      <td>No</td>\n",
       "      <td>Month-to-month</td>\n",
       "      <td>Yes</td>\n",
       "      <td>Mailed check</td>\n",
       "      <td>53.85</td>\n",
       "      <td>108.15</td>\n",
       "      <td>Yes</td>\n",
       "    </tr>\n",
       "    <tr>\n",
       "      <th>3</th>\n",
       "      <td>7795-CFOCW</td>\n",
       "      <td>Male</td>\n",
       "      <td>0</td>\n",
       "      <td>No</td>\n",
       "      <td>No</td>\n",
       "      <td>45</td>\n",
       "      <td>No</td>\n",
       "      <td>No phone service</td>\n",
       "      <td>DSL</td>\n",
       "      <td>Yes</td>\n",
       "      <td>No</td>\n",
       "      <td>Yes</td>\n",
       "      <td>Yes</td>\n",
       "      <td>No</td>\n",
       "      <td>No</td>\n",
       "      <td>One year</td>\n",
       "      <td>No</td>\n",
       "      <td>Bank transfer (automatic)</td>\n",
       "      <td>42.30</td>\n",
       "      <td>1840.75</td>\n",
       "      <td>No</td>\n",
       "    </tr>\n",
       "    <tr>\n",
       "      <th>4</th>\n",
       "      <td>9237-HQITU</td>\n",
       "      <td>Female</td>\n",
       "      <td>0</td>\n",
       "      <td>No</td>\n",
       "      <td>No</td>\n",
       "      <td>2</td>\n",
       "      <td>Yes</td>\n",
       "      <td>No</td>\n",
       "      <td>Fiber optic</td>\n",
       "      <td>No</td>\n",
       "      <td>No</td>\n",
       "      <td>No</td>\n",
       "      <td>No</td>\n",
       "      <td>No</td>\n",
       "      <td>No</td>\n",
       "      <td>Month-to-month</td>\n",
       "      <td>Yes</td>\n",
       "      <td>Electronic check</td>\n",
       "      <td>70.70</td>\n",
       "      <td>151.65</td>\n",
       "      <td>Yes</td>\n",
       "    </tr>\n",
       "  </tbody>\n",
       "</table>\n",
       "</div>"
      ],
      "text/plain": [
       "   customerID  gender  SeniorCitizen Partner Dependents  tenure PhoneService     MultipleLines InternetService OnlineSecurity OnlineBackup DeviceProtection TechSupport StreamingTV StreamingMovies        Contract PaperlessBilling              PaymentMethod  MonthlyCharges TotalCharges Churn\n",
       "0  7590-VHVEG  Female              0     Yes         No       1           No  No phone service             DSL             No          Yes               No          No          No              No  Month-to-month              Yes           Electronic check           29.85        29.85    No\n",
       "1  5575-GNVDE    Male              0      No         No      34          Yes                No             DSL            Yes           No              Yes          No          No              No        One year               No               Mailed check           56.95       1889.5    No\n",
       "2  3668-QPYBK    Male              0      No         No       2          Yes                No             DSL            Yes          Yes               No          No          No              No  Month-to-month              Yes               Mailed check           53.85       108.15   Yes\n",
       "3  7795-CFOCW    Male              0      No         No      45           No  No phone service             DSL            Yes           No              Yes         Yes          No              No        One year               No  Bank transfer (automatic)           42.30      1840.75    No\n",
       "4  9237-HQITU  Female              0      No         No       2          Yes                No     Fiber optic             No           No               No          No          No              No  Month-to-month              Yes           Electronic check           70.70       151.65   Yes"
      ]
     },
     "execution_count": 2,
     "metadata": {},
     "output_type": "execute_result"
    }
   ],
   "source": [
    "data = pd.read_csv(\"../data_file/Telco-Customer-Churn.csv\")\n",
    "data.head()"
   ]
  },
  {
   "cell_type": "markdown",
   "metadata": {},
   "source": [
    "# 特征工程"
   ]
  },
  {
   "cell_type": "markdown",
   "metadata": {},
   "source": [
    "## 目标转换"
   ]
  },
  {
   "cell_type": "code",
   "execution_count": 3,
   "metadata": {
    "ExecuteTime": {
     "end_time": "2022-02-23T10:22:29.809468Z",
     "start_time": "2022-02-23T10:22:29.785605Z"
    }
   },
   "outputs": [],
   "source": [
    "data[\"Churn\"] = data[\"Churn\"].apply(lambda x: 1 if x==\"Yes\" else 0)"
   ]
  },
  {
   "cell_type": "markdown",
   "metadata": {},
   "source": [
    "## 类型转换"
   ]
  },
  {
   "cell_type": "code",
   "execution_count": 4,
   "metadata": {
    "ExecuteTime": {
     "end_time": "2022-02-23T10:22:34.094417Z",
     "start_time": "2022-02-23T10:22:34.071060Z"
    }
   },
   "outputs": [],
   "source": [
    "data[\"TotalCharges\"] = data[\"TotalCharges\"].replace(\" \", \"0\")\n",
    "data[\"TotalCharges\"] = data[\"TotalCharges\"].astype(float)"
   ]
  },
  {
   "cell_type": "markdown",
   "metadata": {},
   "source": [
    "## 特征分箱"
   ]
  },
  {
   "cell_type": "code",
   "execution_count": 5,
   "metadata": {
    "ExecuteTime": {
     "end_time": "2022-02-23T10:22:35.259653Z",
     "start_time": "2022-02-23T10:22:35.171298Z"
    }
   },
   "outputs": [
    {
     "data": {
      "text/plain": [
       "<toad.transform.Combiner at 0x1c7894dd1f0>"
      ]
     },
     "execution_count": 5,
     "metadata": {},
     "output_type": "execute_result"
    }
   ],
   "source": [
    "ex_lis = [\"customerID\", \"Churn\", \"MonthlyCharges\", \"TotalCharges\", \"tenure\"]\n",
    "combiner = Combiner()\n",
    "combiner.fit(data, data['Churn'], method='chi', min_samples = 0.05,\n",
    "             exclude=ex_lis)"
   ]
  },
  {
   "cell_type": "code",
   "execution_count": 6,
   "metadata": {
    "ExecuteTime": {
     "end_time": "2022-02-23T10:22:36.082182Z",
     "start_time": "2022-02-23T10:22:36.005023Z"
    }
   },
   "outputs": [],
   "source": [
    "new_data = combiner.transform(data)"
   ]
  },
  {
   "cell_type": "markdown",
   "metadata": {},
   "source": [
    "## 合并数据 "
   ]
  },
  {
   "cell_type": "code",
   "execution_count": 7,
   "metadata": {
    "ExecuteTime": {
     "end_time": "2022-02-23T10:22:37.577714Z",
     "start_time": "2022-02-23T10:22:37.553349Z"
    }
   },
   "outputs": [],
   "source": [
    "cols = ['gender', 'SeniorCitizen', 'Partner', 'Dependents', 'PhoneService', 'MultipleLines', 'InternetService', 'OnlineSecurity', \n",
    "        'OnlineBackup', 'DeviceProtection', 'TechSupport', 'StreamingTV', 'StreamingMovies', 'Contract', 'PaperlessBilling', \n",
    "        'PaymentMethod']\n",
    "new_data = new_data[cols]\n",
    "_data = data[[\"customerID\", \"tenure\", \"Churn\", \"MonthlyCharges\", \"TotalCharges\"]].join(new_data)"
   ]
  },
  {
   "cell_type": "markdown",
   "metadata": {},
   "source": [
    "## 划分数据集"
   ]
  },
  {
   "cell_type": "code",
   "execution_count": 8,
   "metadata": {
    "ExecuteTime": {
     "end_time": "2022-02-23T10:22:39.177121Z",
     "start_time": "2022-02-23T10:22:39.162968Z"
    }
   },
   "outputs": [],
   "source": [
    "train, test = train_test_split(_data.iloc[:, 1:], test_size=0.3, random_state=2022)"
   ]
  },
  {
   "cell_type": "markdown",
   "metadata": {},
   "source": [
    "# 建模"
   ]
  },
  {
   "cell_type": "code",
   "execution_count": 9,
   "metadata": {
    "ExecuteTime": {
     "end_time": "2022-02-23T10:22:42.290939Z",
     "start_time": "2022-02-23T10:22:41.851112Z"
    }
   },
   "outputs": [
    {
     "data": {
      "text/plain": [
       "<lifelines.CoxPHFitter: fitted with 4930 total observations, 3623 right-censored observations>"
      ]
     },
     "execution_count": 9,
     "metadata": {},
     "output_type": "execute_result"
    }
   ],
   "source": [
    "cph = CoxPHFitter()\n",
    "cph.fit(train, \"tenure\", \"Churn\")"
   ]
  },
  {
   "cell_type": "code",
   "execution_count": 10,
   "metadata": {
    "ExecuteTime": {
     "end_time": "2022-02-23T10:22:44.031964Z",
     "start_time": "2022-02-23T10:22:43.933040Z"
    }
   },
   "outputs": [
    {
     "data": {
      "text/html": [
       "<div>\n",
       "<style scoped>\n",
       "    .dataframe tbody tr th:only-of-type {\n",
       "        vertical-align: middle;\n",
       "    }\n",
       "\n",
       "    .dataframe tbody tr th {\n",
       "        vertical-align: top;\n",
       "    }\n",
       "\n",
       "    .dataframe thead th {\n",
       "        text-align: right;\n",
       "    }\n",
       "</style>\n",
       "<table border=\"1\" class=\"dataframe\">\n",
       "  <tbody>\n",
       "    <tr>\n",
       "      <th>model</th>\n",
       "      <td>lifelines.CoxPHFitter</td>\n",
       "    </tr>\n",
       "    <tr>\n",
       "      <th>duration col</th>\n",
       "      <td>'tenure'</td>\n",
       "    </tr>\n",
       "    <tr>\n",
       "      <th>event col</th>\n",
       "      <td>'Churn'</td>\n",
       "    </tr>\n",
       "    <tr>\n",
       "      <th>baseline estimation</th>\n",
       "      <td>breslow</td>\n",
       "    </tr>\n",
       "    <tr>\n",
       "      <th>number of observations</th>\n",
       "      <td>4930</td>\n",
       "    </tr>\n",
       "    <tr>\n",
       "      <th>number of events observed</th>\n",
       "      <td>1307</td>\n",
       "    </tr>\n",
       "    <tr>\n",
       "      <th>partial log-likelihood</th>\n",
       "      <td>-8430.97</td>\n",
       "    </tr>\n",
       "    <tr>\n",
       "      <th>time fit was run</th>\n",
       "      <td>2022-02-23 10:22:41 UTC</td>\n",
       "    </tr>\n",
       "  </tbody>\n",
       "</table>\n",
       "</div><table border=\"1\" class=\"dataframe\">\n",
       "  <thead>\n",
       "    <tr style=\"text-align: right;\">\n",
       "      <th style=\"min-width: 12px;\"></th>\n",
       "      <th style=\"min-width: 12px;\">coef</th>\n",
       "      <th style=\"min-width: 12px;\">exp(coef)</th>\n",
       "      <th style=\"min-width: 12px;\">se(coef)</th>\n",
       "      <th style=\"min-width: 12px;\">coef lower 95%</th>\n",
       "      <th style=\"min-width: 12px;\">coef upper 95%</th>\n",
       "      <th style=\"min-width: 12px;\">exp(coef) lower 95%</th>\n",
       "      <th style=\"min-width: 12px;\">exp(coef) upper 95%</th>\n",
       "      <th style=\"min-width: 12px;\">z</th>\n",
       "      <th style=\"min-width: 12px;\">p</th>\n",
       "      <th style=\"min-width: 12px;\">-log2(p)</th>\n",
       "    </tr>\n",
       "  </thead>\n",
       "  <tbody>\n",
       "    <tr>\n",
       "      <th>MonthlyCharges</th>\n",
       "      <td>0.04</td>\n",
       "      <td>1.04</td>\n",
       "      <td>0.00</td>\n",
       "      <td>0.03</td>\n",
       "      <td>0.05</td>\n",
       "      <td>1.03</td>\n",
       "      <td>1.05</td>\n",
       "      <td>9.16</td>\n",
       "      <td>&lt;0.005</td>\n",
       "      <td>64.01</td>\n",
       "    </tr>\n",
       "    <tr>\n",
       "      <th>TotalCharges</th>\n",
       "      <td>-0.00</td>\n",
       "      <td>1.00</td>\n",
       "      <td>0.00</td>\n",
       "      <td>-0.00</td>\n",
       "      <td>-0.00</td>\n",
       "      <td>1.00</td>\n",
       "      <td>1.00</td>\n",
       "      <td>-32.39</td>\n",
       "      <td>&lt;0.005</td>\n",
       "      <td>762.00</td>\n",
       "    </tr>\n",
       "    <tr>\n",
       "      <th>gender</th>\n",
       "      <td>0.02</td>\n",
       "      <td>1.02</td>\n",
       "      <td>0.06</td>\n",
       "      <td>-0.09</td>\n",
       "      <td>0.13</td>\n",
       "      <td>0.91</td>\n",
       "      <td>1.14</td>\n",
       "      <td>0.35</td>\n",
       "      <td>0.73</td>\n",
       "      <td>0.46</td>\n",
       "    </tr>\n",
       "    <tr>\n",
       "      <th>SeniorCitizen</th>\n",
       "      <td>0.08</td>\n",
       "      <td>1.08</td>\n",
       "      <td>0.07</td>\n",
       "      <td>-0.05</td>\n",
       "      <td>0.21</td>\n",
       "      <td>0.95</td>\n",
       "      <td>1.24</td>\n",
       "      <td>1.18</td>\n",
       "      <td>0.24</td>\n",
       "      <td>2.08</td>\n",
       "    </tr>\n",
       "    <tr>\n",
       "      <th>Partner</th>\n",
       "      <td>0.23</td>\n",
       "      <td>1.26</td>\n",
       "      <td>0.07</td>\n",
       "      <td>0.10</td>\n",
       "      <td>0.36</td>\n",
       "      <td>1.11</td>\n",
       "      <td>1.43</td>\n",
       "      <td>3.49</td>\n",
       "      <td>&lt;0.005</td>\n",
       "      <td>11.04</td>\n",
       "    </tr>\n",
       "    <tr>\n",
       "      <th>Dependents</th>\n",
       "      <td>0.07</td>\n",
       "      <td>1.07</td>\n",
       "      <td>0.08</td>\n",
       "      <td>-0.10</td>\n",
       "      <td>0.23</td>\n",
       "      <td>0.91</td>\n",
       "      <td>1.26</td>\n",
       "      <td>0.81</td>\n",
       "      <td>0.42</td>\n",
       "      <td>1.26</td>\n",
       "    </tr>\n",
       "    <tr>\n",
       "      <th>PhoneService</th>\n",
       "      <td>0.56</td>\n",
       "      <td>1.75</td>\n",
       "      <td>0.15</td>\n",
       "      <td>0.26</td>\n",
       "      <td>0.85</td>\n",
       "      <td>1.30</td>\n",
       "      <td>2.34</td>\n",
       "      <td>3.72</td>\n",
       "      <td>&lt;0.005</td>\n",
       "      <td>12.30</td>\n",
       "    </tr>\n",
       "    <tr>\n",
       "      <th>MultipleLines</th>\n",
       "      <td>-0.10</td>\n",
       "      <td>0.91</td>\n",
       "      <td>0.06</td>\n",
       "      <td>-0.22</td>\n",
       "      <td>0.03</td>\n",
       "      <td>0.80</td>\n",
       "      <td>1.03</td>\n",
       "      <td>-1.54</td>\n",
       "      <td>0.12</td>\n",
       "      <td>3.00</td>\n",
       "    </tr>\n",
       "    <tr>\n",
       "      <th>InternetService</th>\n",
       "      <td>0.22</td>\n",
       "      <td>1.25</td>\n",
       "      <td>0.15</td>\n",
       "      <td>-0.08</td>\n",
       "      <td>0.52</td>\n",
       "      <td>0.93</td>\n",
       "      <td>1.68</td>\n",
       "      <td>1.46</td>\n",
       "      <td>0.14</td>\n",
       "      <td>2.80</td>\n",
       "    </tr>\n",
       "    <tr>\n",
       "      <th>OnlineSecurity</th>\n",
       "      <td>0.34</td>\n",
       "      <td>1.40</td>\n",
       "      <td>0.08</td>\n",
       "      <td>0.19</td>\n",
       "      <td>0.49</td>\n",
       "      <td>1.21</td>\n",
       "      <td>1.63</td>\n",
       "      <td>4.49</td>\n",
       "      <td>&lt;0.005</td>\n",
       "      <td>17.09</td>\n",
       "    </tr>\n",
       "    <tr>\n",
       "      <th>OnlineBackup</th>\n",
       "      <td>0.18</td>\n",
       "      <td>1.20</td>\n",
       "      <td>0.06</td>\n",
       "      <td>0.06</td>\n",
       "      <td>0.30</td>\n",
       "      <td>1.06</td>\n",
       "      <td>1.35</td>\n",
       "      <td>2.93</td>\n",
       "      <td>&lt;0.005</td>\n",
       "      <td>8.19</td>\n",
       "    </tr>\n",
       "    <tr>\n",
       "      <th>DeviceProtection</th>\n",
       "      <td>-0.03</td>\n",
       "      <td>0.97</td>\n",
       "      <td>0.06</td>\n",
       "      <td>-0.15</td>\n",
       "      <td>0.10</td>\n",
       "      <td>0.86</td>\n",
       "      <td>1.10</td>\n",
       "      <td>-0.44</td>\n",
       "      <td>0.66</td>\n",
       "      <td>0.60</td>\n",
       "    </tr>\n",
       "    <tr>\n",
       "      <th>TechSupport</th>\n",
       "      <td>0.16</td>\n",
       "      <td>1.18</td>\n",
       "      <td>0.08</td>\n",
       "      <td>0.01</td>\n",
       "      <td>0.31</td>\n",
       "      <td>1.01</td>\n",
       "      <td>1.36</td>\n",
       "      <td>2.12</td>\n",
       "      <td>0.03</td>\n",
       "      <td>4.89</td>\n",
       "    </tr>\n",
       "    <tr>\n",
       "      <th>StreamingTV</th>\n",
       "      <td>-0.04</td>\n",
       "      <td>0.96</td>\n",
       "      <td>0.07</td>\n",
       "      <td>-0.17</td>\n",
       "      <td>0.09</td>\n",
       "      <td>0.85</td>\n",
       "      <td>1.10</td>\n",
       "      <td>-0.57</td>\n",
       "      <td>0.57</td>\n",
       "      <td>0.81</td>\n",
       "    </tr>\n",
       "    <tr>\n",
       "      <th>StreamingMovies</th>\n",
       "      <td>0.01</td>\n",
       "      <td>1.01</td>\n",
       "      <td>0.07</td>\n",
       "      <td>-0.12</td>\n",
       "      <td>0.14</td>\n",
       "      <td>0.89</td>\n",
       "      <td>1.15</td>\n",
       "      <td>0.15</td>\n",
       "      <td>0.88</td>\n",
       "      <td>0.18</td>\n",
       "    </tr>\n",
       "    <tr>\n",
       "      <th>Contract</th>\n",
       "      <td>1.68</td>\n",
       "      <td>5.39</td>\n",
       "      <td>0.10</td>\n",
       "      <td>1.49</td>\n",
       "      <td>1.88</td>\n",
       "      <td>4.45</td>\n",
       "      <td>6.53</td>\n",
       "      <td>17.17</td>\n",
       "      <td>&lt;0.005</td>\n",
       "      <td>217.00</td>\n",
       "    </tr>\n",
       "    <tr>\n",
       "      <th>PaperlessBilling</th>\n",
       "      <td>0.15</td>\n",
       "      <td>1.16</td>\n",
       "      <td>0.07</td>\n",
       "      <td>0.02</td>\n",
       "      <td>0.28</td>\n",
       "      <td>1.02</td>\n",
       "      <td>1.33</td>\n",
       "      <td>2.25</td>\n",
       "      <td>0.02</td>\n",
       "      <td>5.34</td>\n",
       "    </tr>\n",
       "    <tr>\n",
       "      <th>PaymentMethod</th>\n",
       "      <td>0.13</td>\n",
       "      <td>1.14</td>\n",
       "      <td>0.03</td>\n",
       "      <td>0.07</td>\n",
       "      <td>0.18</td>\n",
       "      <td>1.08</td>\n",
       "      <td>1.20</td>\n",
       "      <td>4.68</td>\n",
       "      <td>&lt;0.005</td>\n",
       "      <td>18.40</td>\n",
       "    </tr>\n",
       "  </tbody>\n",
       "</table><br><div>\n",
       "<style scoped>\n",
       "    .dataframe tbody tr th:only-of-type {\n",
       "        vertical-align: middle;\n",
       "    }\n",
       "\n",
       "    .dataframe tbody tr th {\n",
       "        vertical-align: top;\n",
       "    }\n",
       "\n",
       "    .dataframe thead th {\n",
       "        text-align: right;\n",
       "    }\n",
       "</style>\n",
       "<table border=\"1\" class=\"dataframe\">\n",
       "  <tbody>\n",
       "    <tr>\n",
       "      <th>Concordance</th>\n",
       "      <td>0.93</td>\n",
       "    </tr>\n",
       "    <tr>\n",
       "      <th>Partial AIC</th>\n",
       "      <td>16897.95</td>\n",
       "    </tr>\n",
       "    <tr>\n",
       "      <th>log-likelihood ratio test</th>\n",
       "      <td>4080.75 on 18 df</td>\n",
       "    </tr>\n",
       "    <tr>\n",
       "      <th>-log2(p) of ll-ratio test</th>\n",
       "      <td>inf</td>\n",
       "    </tr>\n",
       "  </tbody>\n",
       "</table>\n",
       "</div>"
      ],
      "text/latex": [
       "\\begin{tabular}{lrrrrrrrrrr}\n",
       "\\toprule\n",
       "{} &  coef &  exp(coef) &  se(coef) &  coef lower 95\\% &  coef upper 95\\% &  exp(coef) lower 95\\% &  exp(coef) upper 95\\% &      z &    p &  -log2(p) \\\\\n",
       "covariate        &       &            &           &                 &                 &                      &                      &        &      &           \\\\\n",
       "\\midrule\n",
       "MonthlyCharges   &  0.04 &       1.04 &      0.00 &            0.03 &            0.05 &                 1.03 &                 1.05 &   9.16 & 0.00 &     64.01 \\\\\n",
       "TotalCharges     & -0.00 &       1.00 &      0.00 &           -0.00 &           -0.00 &                 1.00 &                 1.00 & -32.39 & 0.00 &    762.00 \\\\\n",
       "gender           &  0.02 &       1.02 &      0.06 &           -0.09 &            0.13 &                 0.91 &                 1.14 &   0.35 & 0.73 &      0.46 \\\\\n",
       "SeniorCitizen    &  0.08 &       1.08 &      0.07 &           -0.05 &            0.21 &                 0.95 &                 1.24 &   1.18 & 0.24 &      2.08 \\\\\n",
       "Partner          &  0.23 &       1.26 &      0.07 &            0.10 &            0.36 &                 1.11 &                 1.43 &   3.49 & 0.00 &     11.04 \\\\\n",
       "Dependents       &  0.07 &       1.07 &      0.08 &           -0.10 &            0.23 &                 0.91 &                 1.26 &   0.81 & 0.42 &      1.26 \\\\\n",
       "PhoneService     &  0.56 &       1.75 &      0.15 &            0.26 &            0.85 &                 1.30 &                 2.34 &   3.72 & 0.00 &     12.30 \\\\\n",
       "MultipleLines    & -0.10 &       0.91 &      0.06 &           -0.22 &            0.03 &                 0.80 &                 1.03 &  -1.54 & 0.12 &      3.00 \\\\\n",
       "InternetService  &  0.22 &       1.25 &      0.15 &           -0.08 &            0.52 &                 0.93 &                 1.68 &   1.46 & 0.14 &      2.80 \\\\\n",
       "OnlineSecurity   &  0.34 &       1.40 &      0.08 &            0.19 &            0.49 &                 1.21 &                 1.63 &   4.49 & 0.00 &     17.09 \\\\\n",
       "OnlineBackup     &  0.18 &       1.20 &      0.06 &            0.06 &            0.30 &                 1.06 &                 1.35 &   2.93 & 0.00 &      8.19 \\\\\n",
       "DeviceProtection & -0.03 &       0.97 &      0.06 &           -0.15 &            0.10 &                 0.86 &                 1.10 &  -0.44 & 0.66 &      0.60 \\\\\n",
       "TechSupport      &  0.16 &       1.18 &      0.08 &            0.01 &            0.31 &                 1.01 &                 1.36 &   2.12 & 0.03 &      4.89 \\\\\n",
       "StreamingTV      & -0.04 &       0.96 &      0.07 &           -0.17 &            0.09 &                 0.85 &                 1.10 &  -0.57 & 0.57 &      0.81 \\\\\n",
       "StreamingMovies  &  0.01 &       1.01 &      0.07 &           -0.12 &            0.14 &                 0.89 &                 1.15 &   0.15 & 0.88 &      0.18 \\\\\n",
       "Contract         &  1.68 &       5.39 &      0.10 &            1.49 &            1.88 &                 4.45 &                 6.53 &  17.17 & 0.00 &    217.00 \\\\\n",
       "PaperlessBilling &  0.15 &       1.16 &      0.07 &            0.02 &            0.28 &                 1.02 &                 1.33 &   2.25 & 0.02 &      5.34 \\\\\n",
       "PaymentMethod    &  0.13 &       1.14 &      0.03 &            0.07 &            0.18 &                 1.08 &                 1.20 &   4.68 & 0.00 &     18.40 \\\\\n",
       "\\bottomrule\n",
       "\\end{tabular}\n"
      ],
      "text/plain": [
       "<lifelines.CoxPHFitter: fitted with 4930 total observations, 3623 right-censored observations>\n",
       "             duration col = 'tenure'\n",
       "                event col = 'Churn'\n",
       "      baseline estimation = breslow\n",
       "   number of observations = 4930\n",
       "number of events observed = 1307\n",
       "   partial log-likelihood = -8430.97\n",
       "         time fit was run = 2022-02-23 10:22:41 UTC\n",
       "\n",
       "---\n",
       "                   coef  exp(coef)   se(coef)   coef lower 95%   coef upper 95%  exp(coef) lower 95%  exp(coef) upper 95%\n",
       "covariate                                                                                                                \n",
       "MonthlyCharges     0.04       1.04       0.00             0.03             0.05                 1.03                 1.05\n",
       "TotalCharges      -0.00       1.00       0.00            -0.00            -0.00                 1.00                 1.00\n",
       "gender             0.02       1.02       0.06            -0.09             0.13                 0.91                 1.14\n",
       "SeniorCitizen      0.08       1.08       0.07            -0.05             0.21                 0.95                 1.24\n",
       "Partner            0.23       1.26       0.07             0.10             0.36                 1.11                 1.43\n",
       "Dependents         0.07       1.07       0.08            -0.10             0.23                 0.91                 1.26\n",
       "PhoneService       0.56       1.75       0.15             0.26             0.85                 1.30                 2.34\n",
       "MultipleLines     -0.10       0.91       0.06            -0.22             0.03                 0.80                 1.03\n",
       "InternetService    0.22       1.25       0.15            -0.08             0.52                 0.93                 1.68\n",
       "OnlineSecurity     0.34       1.40       0.08             0.19             0.49                 1.21                 1.63\n",
       "OnlineBackup       0.18       1.20       0.06             0.06             0.30                 1.06                 1.35\n",
       "DeviceProtection  -0.03       0.97       0.06            -0.15             0.10                 0.86                 1.10\n",
       "TechSupport        0.16       1.18       0.08             0.01             0.31                 1.01                 1.36\n",
       "StreamingTV       -0.04       0.96       0.07            -0.17             0.09                 0.85                 1.10\n",
       "StreamingMovies    0.01       1.01       0.07            -0.12             0.14                 0.89                 1.15\n",
       "Contract           1.68       5.39       0.10             1.49             1.88                 4.45                 6.53\n",
       "PaperlessBilling   0.15       1.16       0.07             0.02             0.28                 1.02                 1.33\n",
       "PaymentMethod      0.13       1.14       0.03             0.07             0.18                 1.08                 1.20\n",
       "\n",
       "                      z      p   -log2(p)\n",
       "covariate                                \n",
       "MonthlyCharges     9.16 <0.005      64.01\n",
       "TotalCharges     -32.39 <0.005     762.00\n",
       "gender             0.35   0.73       0.46\n",
       "SeniorCitizen      1.18   0.24       2.08\n",
       "Partner            3.49 <0.005      11.04\n",
       "Dependents         0.81   0.42       1.26\n",
       "PhoneService       3.72 <0.005      12.30\n",
       "MultipleLines     -1.54   0.12       3.00\n",
       "InternetService    1.46   0.14       2.80\n",
       "OnlineSecurity     4.49 <0.005      17.09\n",
       "OnlineBackup       2.93 <0.005       8.19\n",
       "DeviceProtection  -0.44   0.66       0.60\n",
       "TechSupport        2.12   0.03       4.89\n",
       "StreamingTV       -0.57   0.57       0.81\n",
       "StreamingMovies    0.15   0.88       0.18\n",
       "Contract          17.17 <0.005     217.00\n",
       "PaperlessBilling   2.25   0.02       5.34\n",
       "PaymentMethod      4.68 <0.005      18.40\n",
       "---\n",
       "Concordance = 0.93\n",
       "Partial AIC = 16897.95\n",
       "log-likelihood ratio test = 4080.75 on 18 df\n",
       "-log2(p) of ll-ratio test = inf"
      ]
     },
     "metadata": {},
     "output_type": "display_data"
    }
   ],
   "source": [
    "cph.print_summary()"
   ]
  },
  {
   "cell_type": "markdown",
   "metadata": {},
   "source": [
    "# 可视化"
   ]
  },
  {
   "cell_type": "markdown",
   "metadata": {},
   "source": [
    "## 特征重要性"
   ]
  },
  {
   "cell_type": "code",
   "execution_count": 12,
   "metadata": {
    "ExecuteTime": {
     "end_time": "2022-02-23T10:31:18.913416Z",
     "start_time": "2022-02-23T10:31:18.636648Z"
    }
   },
   "outputs": [
    {
     "data": {
      "text/plain": [
       "<AxesSubplot:xlabel='log(HR) (95% CI)'>"
      ]
     },
     "execution_count": 12,
     "metadata": {},
     "output_type": "execute_result"
    },
    {
     "data": {
      "image/png": "[encoded data removed]",
      "text/plain": [
       "<Figure size 2400x1800 with 1 Axes>"
      ]
     },
     "metadata": {
      "needs_background": "light"
     },
     "output_type": "display_data"
    }
   ],
   "source": [
    "plt.figure(figsize=(8, 6), dpi=300)\n",
    "cph.plot()"
   ]
  },
  {
   "cell_type": "code",
   "execution_count": null,
   "metadata": {},
   "outputs": [],
   "source": []
  },
  {
   "cell_type": "code",
   "execution_count": null,
   "metadata": {},
   "outputs": [],
   "source": []
  },
  {
   "cell_type": "code",
   "execution_count": null,
   "metadata": {},
   "outputs": [],
   "source": []
  }
 ],
 "metadata": {
  "kernelspec": {
   "display_name": "Python 3 (ipykernel)",
   "language": "python",
   "name": "python3"
  },
  "language_info": {
   "codemirror_mode": {
    "name": "ipython",
    "version": 3
   },
   "file_extension": ".py",
   "mimetype": "text/x-python",
   "name": "python",
   "nbconvert_exporter": "python",
   "pygments_lexer": "ipython3",
   "version": "3.9.7"
  },
  "latex_envs": {
   "LaTeX_envs_menu_present": true,
   "autoclose": false,
   "autocomplete": true,
   "bibliofile": "biblio.bib",
   "cite_by": "apalike",
   "current_citInitial": 1,
   "eqLabelWithNumbers": true,
   "eqNumInitial": 1,
   "hotkeys": {
    "equation": "Ctrl-E",
    "itemize": "Ctrl-I"
   },
   "labels_anchors": false,
   "latex_user_defs": false,
   "report_style_numbering": false,
   "user_envs_cfg": false
  },
  "toc": {
   "base_numbering": 1,
   "nav_menu": {},
   "number_sections": true,
   "sideBar": true,
   "skip_h1_title": false,
   "title_cell": "Table of Contents",
   "title_sidebar": "Contents",
   "toc_cell": false,
   "toc_position": {},
   "toc_section_display": true,
   "toc_window_display": true
  }
 },
 "nbformat": 4,
 "nbformat_minor": 2
}
